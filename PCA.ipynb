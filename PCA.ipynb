{
 "cells": [
  {
   "cell_type": "markdown",
   "id": "e037d874",
   "metadata": {},
   "source": [
    "# Temperature Influence On Humidity Using PCA Approach"
   ]
  },
  {
   "cell_type": "code",
   "execution_count": 1,
   "id": "c97e615d",
   "metadata": {},
   "outputs": [],
   "source": [
    "import pandas as pd"
   ]
  },
  {
   "cell_type": "code",
   "execution_count": 2,
   "id": "7137d8fc",
   "metadata": {},
   "outputs": [],
   "source": [
    "import numpy as np"
   ]
  },
  {
   "cell_type": "code",
   "execution_count": 3,
   "id": "9a683f7d",
   "metadata": {},
   "outputs": [],
   "source": [
    "aa = pd.read_excel('PCA.xlsx')"
   ]
  },
  {
   "cell_type": "code",
   "execution_count": 4,
   "id": "4e9d8cdb",
   "metadata": {},
   "outputs": [
    {
     "data": {
      "text/html": [
       "<div>\n",
       "<style scoped>\n",
       "    .dataframe tbody tr th:only-of-type {\n",
       "        vertical-align: middle;\n",
       "    }\n",
       "\n",
       "    .dataframe tbody tr th {\n",
       "        vertical-align: top;\n",
       "    }\n",
       "\n",
       "    .dataframe thead th {\n",
       "        text-align: right;\n",
       "    }\n",
       "</style>\n",
       "<table border=\"1\" class=\"dataframe\">\n",
       "  <thead>\n",
       "    <tr style=\"text-align: right;\">\n",
       "      <th></th>\n",
       "      <th>Temperature (T)</th>\n",
       "      <th>Humidity (H)</th>\n",
       "    </tr>\n",
       "  </thead>\n",
       "  <tbody>\n",
       "    <tr>\n",
       "      <th>0</th>\n",
       "      <td>40</td>\n",
       "      <td>90</td>\n",
       "    </tr>\n",
       "    <tr>\n",
       "      <th>1</th>\n",
       "      <td>40</td>\n",
       "      <td>90</td>\n",
       "    </tr>\n",
       "    <tr>\n",
       "      <th>2</th>\n",
       "      <td>40</td>\n",
       "      <td>90</td>\n",
       "    </tr>\n",
       "    <tr>\n",
       "      <th>3</th>\n",
       "      <td>30</td>\n",
       "      <td>90</td>\n",
       "    </tr>\n",
       "    <tr>\n",
       "      <th>4</th>\n",
       "      <td>15</td>\n",
       "      <td>70</td>\n",
       "    </tr>\n",
       "    <tr>\n",
       "      <th>5</th>\n",
       "      <td>15</td>\n",
       "      <td>70</td>\n",
       "    </tr>\n",
       "    <tr>\n",
       "      <th>6</th>\n",
       "      <td>15</td>\n",
       "      <td>70</td>\n",
       "    </tr>\n",
       "    <tr>\n",
       "      <th>7</th>\n",
       "      <td>30</td>\n",
       "      <td>90</td>\n",
       "    </tr>\n",
       "    <tr>\n",
       "      <th>8</th>\n",
       "      <td>15</td>\n",
       "      <td>70</td>\n",
       "    </tr>\n",
       "    <tr>\n",
       "      <th>9</th>\n",
       "      <td>30</td>\n",
       "      <td>70</td>\n",
       "    </tr>\n",
       "    <tr>\n",
       "      <th>10</th>\n",
       "      <td>30</td>\n",
       "      <td>70</td>\n",
       "    </tr>\n",
       "    <tr>\n",
       "      <th>11</th>\n",
       "      <td>30</td>\n",
       "      <td>90</td>\n",
       "    </tr>\n",
       "    <tr>\n",
       "      <th>12</th>\n",
       "      <td>40</td>\n",
       "      <td>70</td>\n",
       "    </tr>\n",
       "    <tr>\n",
       "      <th>13</th>\n",
       "      <td>30</td>\n",
       "      <td>90</td>\n",
       "    </tr>\n",
       "  </tbody>\n",
       "</table>\n",
       "</div>"
      ],
      "text/plain": [
       "    Temperature (T)  Humidity (H)\n",
       "0                40            90\n",
       "1                40            90\n",
       "2                40            90\n",
       "3                30            90\n",
       "4                15            70\n",
       "5                15            70\n",
       "6                15            70\n",
       "7                30            90\n",
       "8                15            70\n",
       "9                30            70\n",
       "10               30            70\n",
       "11               30            90\n",
       "12               40            70\n",
       "13               30            90"
      ]
     },
     "execution_count": 4,
     "metadata": {},
     "output_type": "execute_result"
    }
   ],
   "source": [
    "aa"
   ]
  },
  {
   "cell_type": "code",
   "execution_count": 5,
   "id": "1073fa16",
   "metadata": {},
   "outputs": [
    {
     "data": {
      "text/plain": [
       "np.float64(28.571428571428573)"
      ]
     },
     "execution_count": 5,
     "metadata": {},
     "output_type": "execute_result"
    }
   ],
   "source": [
    "aq = aa['Temperature (T)'].mean()\n",
    "aq"
   ]
  },
  {
   "cell_type": "code",
   "execution_count": 6,
   "id": "f3890d47",
   "metadata": {},
   "outputs": [
    {
     "data": {
      "text/plain": [
       "np.float64(80.0)"
      ]
     },
     "execution_count": 6,
     "metadata": {},
     "output_type": "execute_result"
    }
   ],
   "source": [
    "aw = aa['Humidity (H)'].mean()\n",
    "aw"
   ]
  },
  {
   "cell_type": "code",
   "execution_count": 7,
   "id": "bc4d0acb",
   "metadata": {},
   "outputs": [
    {
     "data": {
      "text/plain": [
       "0     11.428571\n",
       "1     11.428571\n",
       "2     11.428571\n",
       "3      1.428571\n",
       "4    -13.571429\n",
       "5    -13.571429\n",
       "6    -13.571429\n",
       "7      1.428571\n",
       "8    -13.571429\n",
       "9      1.428571\n",
       "10     1.428571\n",
       "11     1.428571\n",
       "12    11.428571\n",
       "13     1.428571\n",
       "Name: Temperature (T), dtype: float64"
      ]
     },
     "execution_count": 7,
     "metadata": {},
     "output_type": "execute_result"
    }
   ],
   "source": [
    "T_prime = aa['Temperature (T)'] - aq\n",
    "T_prime"
   ]
  },
  {
   "cell_type": "code",
   "execution_count": 8,
   "id": "9f1f243c",
   "metadata": {},
   "outputs": [
    {
     "data": {
      "text/plain": [
       "0     10.0\n",
       "1     10.0\n",
       "2     10.0\n",
       "3     10.0\n",
       "4    -10.0\n",
       "5    -10.0\n",
       "6    -10.0\n",
       "7     10.0\n",
       "8    -10.0\n",
       "9    -10.0\n",
       "10   -10.0\n",
       "11    10.0\n",
       "12   -10.0\n",
       "13    10.0\n",
       "Name: Humidity (H), dtype: float64"
      ]
     },
     "execution_count": 8,
     "metadata": {},
     "output_type": "execute_result"
    }
   ],
   "source": [
    "H_prime = aa['Humidity (H)'] - aw\n",
    "H_prime"
   ]
  },
  {
   "cell_type": "code",
   "execution_count": 9,
   "id": "b40c71c9",
   "metadata": {},
   "outputs": [
    {
     "data": {
      "text/plain": [
       "0     130.612245\n",
       "1     130.612245\n",
       "2     130.612245\n",
       "3       2.040816\n",
       "4     184.183673\n",
       "5     184.183673\n",
       "6     184.183673\n",
       "7       2.040816\n",
       "8     184.183673\n",
       "9       2.040816\n",
       "10      2.040816\n",
       "11      2.040816\n",
       "12    130.612245\n",
       "13      2.040816\n",
       "Name: Temperature (T), dtype: float64"
      ]
     },
     "execution_count": 9,
     "metadata": {},
     "output_type": "execute_result"
    }
   ],
   "source": [
    "T_prime_2 = T_prime**2\n",
    "T_prime_2"
   ]
  },
  {
   "cell_type": "code",
   "execution_count": 10,
   "id": "edfd8af5",
   "metadata": {},
   "outputs": [
    {
     "data": {
      "text/plain": [
       "0     100.0\n",
       "1     100.0\n",
       "2     100.0\n",
       "3     100.0\n",
       "4     100.0\n",
       "5     100.0\n",
       "6     100.0\n",
       "7     100.0\n",
       "8     100.0\n",
       "9     100.0\n",
       "10    100.0\n",
       "11    100.0\n",
       "12    100.0\n",
       "13    100.0\n",
       "Name: Humidity (H), dtype: float64"
      ]
     },
     "execution_count": 10,
     "metadata": {},
     "output_type": "execute_result"
    }
   ],
   "source": [
    "H_prime_2 = H_prime**2\n",
    "H_prime_2"
   ]
  },
  {
   "cell_type": "code",
   "execution_count": 11,
   "id": "b95809b4",
   "metadata": {},
   "outputs": [
    {
     "data": {
      "text/plain": [
       "0     114.285714\n",
       "1     114.285714\n",
       "2     114.285714\n",
       "3      14.285714\n",
       "4     135.714286\n",
       "5     135.714286\n",
       "6     135.714286\n",
       "7      14.285714\n",
       "8     135.714286\n",
       "9     -14.285714\n",
       "10    -14.285714\n",
       "11     14.285714\n",
       "12   -114.285714\n",
       "13     14.285714\n",
       "dtype: float64"
      ]
     },
     "execution_count": 11,
     "metadata": {},
     "output_type": "execute_result"
    }
   ],
   "source": [
    "multiply_primes = T_prime * H_prime\n",
    "multiply_primes"
   ]
  },
  {
   "cell_type": "code",
   "execution_count": 12,
   "id": "25463510",
   "metadata": {},
   "outputs": [],
   "source": [
    "aa['T_prime'] = T_prime\n",
    "aa['H_prime'] = H_prime\n",
    "aa['T_prime_2'] = T_prime_2\n",
    "aa['H_prime_2'] = H_prime_2\n",
    "aa['T_H_prime'] = multiply_primes"
   ]
  },
  {
   "cell_type": "code",
   "execution_count": 13,
   "id": "000ae748",
   "metadata": {},
   "outputs": [
    {
     "data": {
      "text/html": [
       "<div>\n",
       "<style scoped>\n",
       "    .dataframe tbody tr th:only-of-type {\n",
       "        vertical-align: middle;\n",
       "    }\n",
       "\n",
       "    .dataframe tbody tr th {\n",
       "        vertical-align: top;\n",
       "    }\n",
       "\n",
       "    .dataframe thead th {\n",
       "        text-align: right;\n",
       "    }\n",
       "</style>\n",
       "<table border=\"1\" class=\"dataframe\">\n",
       "  <thead>\n",
       "    <tr style=\"text-align: right;\">\n",
       "      <th></th>\n",
       "      <th>Temperature (T)</th>\n",
       "      <th>Humidity (H)</th>\n",
       "      <th>T_prime</th>\n",
       "      <th>H_prime</th>\n",
       "      <th>T_prime_2</th>\n",
       "      <th>H_prime_2</th>\n",
       "      <th>T_H_prime</th>\n",
       "    </tr>\n",
       "  </thead>\n",
       "  <tbody>\n",
       "    <tr>\n",
       "      <th>0</th>\n",
       "      <td>40</td>\n",
       "      <td>90</td>\n",
       "      <td>11.428571</td>\n",
       "      <td>10.0</td>\n",
       "      <td>130.612245</td>\n",
       "      <td>100.0</td>\n",
       "      <td>114.285714</td>\n",
       "    </tr>\n",
       "    <tr>\n",
       "      <th>1</th>\n",
       "      <td>40</td>\n",
       "      <td>90</td>\n",
       "      <td>11.428571</td>\n",
       "      <td>10.0</td>\n",
       "      <td>130.612245</td>\n",
       "      <td>100.0</td>\n",
       "      <td>114.285714</td>\n",
       "    </tr>\n",
       "    <tr>\n",
       "      <th>2</th>\n",
       "      <td>40</td>\n",
       "      <td>90</td>\n",
       "      <td>11.428571</td>\n",
       "      <td>10.0</td>\n",
       "      <td>130.612245</td>\n",
       "      <td>100.0</td>\n",
       "      <td>114.285714</td>\n",
       "    </tr>\n",
       "    <tr>\n",
       "      <th>3</th>\n",
       "      <td>30</td>\n",
       "      <td>90</td>\n",
       "      <td>1.428571</td>\n",
       "      <td>10.0</td>\n",
       "      <td>2.040816</td>\n",
       "      <td>100.0</td>\n",
       "      <td>14.285714</td>\n",
       "    </tr>\n",
       "    <tr>\n",
       "      <th>4</th>\n",
       "      <td>15</td>\n",
       "      <td>70</td>\n",
       "      <td>-13.571429</td>\n",
       "      <td>-10.0</td>\n",
       "      <td>184.183673</td>\n",
       "      <td>100.0</td>\n",
       "      <td>135.714286</td>\n",
       "    </tr>\n",
       "    <tr>\n",
       "      <th>5</th>\n",
       "      <td>15</td>\n",
       "      <td>70</td>\n",
       "      <td>-13.571429</td>\n",
       "      <td>-10.0</td>\n",
       "      <td>184.183673</td>\n",
       "      <td>100.0</td>\n",
       "      <td>135.714286</td>\n",
       "    </tr>\n",
       "    <tr>\n",
       "      <th>6</th>\n",
       "      <td>15</td>\n",
       "      <td>70</td>\n",
       "      <td>-13.571429</td>\n",
       "      <td>-10.0</td>\n",
       "      <td>184.183673</td>\n",
       "      <td>100.0</td>\n",
       "      <td>135.714286</td>\n",
       "    </tr>\n",
       "    <tr>\n",
       "      <th>7</th>\n",
       "      <td>30</td>\n",
       "      <td>90</td>\n",
       "      <td>1.428571</td>\n",
       "      <td>10.0</td>\n",
       "      <td>2.040816</td>\n",
       "      <td>100.0</td>\n",
       "      <td>14.285714</td>\n",
       "    </tr>\n",
       "    <tr>\n",
       "      <th>8</th>\n",
       "      <td>15</td>\n",
       "      <td>70</td>\n",
       "      <td>-13.571429</td>\n",
       "      <td>-10.0</td>\n",
       "      <td>184.183673</td>\n",
       "      <td>100.0</td>\n",
       "      <td>135.714286</td>\n",
       "    </tr>\n",
       "    <tr>\n",
       "      <th>9</th>\n",
       "      <td>30</td>\n",
       "      <td>70</td>\n",
       "      <td>1.428571</td>\n",
       "      <td>-10.0</td>\n",
       "      <td>2.040816</td>\n",
       "      <td>100.0</td>\n",
       "      <td>-14.285714</td>\n",
       "    </tr>\n",
       "    <tr>\n",
       "      <th>10</th>\n",
       "      <td>30</td>\n",
       "      <td>70</td>\n",
       "      <td>1.428571</td>\n",
       "      <td>-10.0</td>\n",
       "      <td>2.040816</td>\n",
       "      <td>100.0</td>\n",
       "      <td>-14.285714</td>\n",
       "    </tr>\n",
       "    <tr>\n",
       "      <th>11</th>\n",
       "      <td>30</td>\n",
       "      <td>90</td>\n",
       "      <td>1.428571</td>\n",
       "      <td>10.0</td>\n",
       "      <td>2.040816</td>\n",
       "      <td>100.0</td>\n",
       "      <td>14.285714</td>\n",
       "    </tr>\n",
       "    <tr>\n",
       "      <th>12</th>\n",
       "      <td>40</td>\n",
       "      <td>70</td>\n",
       "      <td>11.428571</td>\n",
       "      <td>-10.0</td>\n",
       "      <td>130.612245</td>\n",
       "      <td>100.0</td>\n",
       "      <td>-114.285714</td>\n",
       "    </tr>\n",
       "    <tr>\n",
       "      <th>13</th>\n",
       "      <td>30</td>\n",
       "      <td>90</td>\n",
       "      <td>1.428571</td>\n",
       "      <td>10.0</td>\n",
       "      <td>2.040816</td>\n",
       "      <td>100.0</td>\n",
       "      <td>14.285714</td>\n",
       "    </tr>\n",
       "  </tbody>\n",
       "</table>\n",
       "</div>"
      ],
      "text/plain": [
       "    Temperature (T)  Humidity (H)    T_prime  H_prime   T_prime_2  H_prime_2  \\\n",
       "0                40            90  11.428571     10.0  130.612245      100.0   \n",
       "1                40            90  11.428571     10.0  130.612245      100.0   \n",
       "2                40            90  11.428571     10.0  130.612245      100.0   \n",
       "3                30            90   1.428571     10.0    2.040816      100.0   \n",
       "4                15            70 -13.571429    -10.0  184.183673      100.0   \n",
       "5                15            70 -13.571429    -10.0  184.183673      100.0   \n",
       "6                15            70 -13.571429    -10.0  184.183673      100.0   \n",
       "7                30            90   1.428571     10.0    2.040816      100.0   \n",
       "8                15            70 -13.571429    -10.0  184.183673      100.0   \n",
       "9                30            70   1.428571    -10.0    2.040816      100.0   \n",
       "10               30            70   1.428571    -10.0    2.040816      100.0   \n",
       "11               30            90   1.428571     10.0    2.040816      100.0   \n",
       "12               40            70  11.428571    -10.0  130.612245      100.0   \n",
       "13               30            90   1.428571     10.0    2.040816      100.0   \n",
       "\n",
       "     T_H_prime  \n",
       "0   114.285714  \n",
       "1   114.285714  \n",
       "2   114.285714  \n",
       "3    14.285714  \n",
       "4   135.714286  \n",
       "5   135.714286  \n",
       "6   135.714286  \n",
       "7    14.285714  \n",
       "8   135.714286  \n",
       "9   -14.285714  \n",
       "10  -14.285714  \n",
       "11   14.285714  \n",
       "12 -114.285714  \n",
       "13   14.285714  "
      ]
     },
     "execution_count": 13,
     "metadata": {},
     "output_type": "execute_result"
    }
   ],
   "source": [
    "aa"
   ]
  },
  {
   "cell_type": "code",
   "execution_count": 14,
   "id": "487eff37",
   "metadata": {},
   "outputs": [
    {
     "data": {
      "text/plain": [
       "np.float64(1271.429)"
      ]
     },
     "execution_count": 14,
     "metadata": {},
     "output_type": "execute_result"
    }
   ],
   "source": [
    "ae = aa['T_prime_2'].sum()\n",
    "ae.round(3)"
   ]
  },
  {
   "cell_type": "code",
   "execution_count": 15,
   "id": "1235c05d",
   "metadata": {},
   "outputs": [
    {
     "name": "stdout",
     "output_type": "stream",
     "text": [
      "The variance of Temperature is 97.80219780219781\n"
     ]
    }
   ],
   "source": [
    "var_T = ae/13\n",
    "var_T\n",
    "print(f'The variance of Temperature is {var_T}')"
   ]
  },
  {
   "cell_type": "code",
   "execution_count": 16,
   "id": "d3da428e",
   "metadata": {},
   "outputs": [
    {
     "data": {
      "text/plain": [
       "np.float64(1400.0)"
      ]
     },
     "execution_count": 16,
     "metadata": {},
     "output_type": "execute_result"
    }
   ],
   "source": [
    "ar = aa['H_prime_2'].sum()\n",
    "ar"
   ]
  },
  {
   "cell_type": "code",
   "execution_count": 17,
   "id": "ea9c4860",
   "metadata": {},
   "outputs": [
    {
     "name": "stdout",
     "output_type": "stream",
     "text": [
      "The variance of Humidity is 107.6923076923077\n"
     ]
    }
   ],
   "source": [
    "var_H = ar/13\n",
    "var_H\n",
    "print(f'The variance of Humidity is {var_H}')"
   ]
  },
  {
   "cell_type": "code",
   "execution_count": 18,
   "id": "3de5c761",
   "metadata": {},
   "outputs": [
    {
     "data": {
      "text/plain": [
       "np.float64(800.0)"
      ]
     },
     "execution_count": 18,
     "metadata": {},
     "output_type": "execute_result"
    }
   ],
   "source": [
    "at = aa['T_H_prime'].sum()\n",
    "at"
   ]
  },
  {
   "cell_type": "code",
   "execution_count": 19,
   "id": "48dd9919",
   "metadata": {},
   "outputs": [
    {
     "name": "stdout",
     "output_type": "stream",
     "text": [
      "The covariance is 61.53846153846154\n"
     ]
    }
   ],
   "source": [
    "cov_T_H = at/13\n",
    "cov_T_H\n",
    "print(f'The covariance is {cov_T_H}')"
   ]
  },
  {
   "cell_type": "code",
   "execution_count": 20,
   "id": "b7d15b21",
   "metadata": {},
   "outputs": [
    {
     "data": {
      "text/plain": [
       "array([[ 97.8021978 ,  61.53846154],\n",
       "       [ 61.53846154, 107.69230769]])"
      ]
     },
     "execution_count": 20,
     "metadata": {},
     "output_type": "execute_result"
    }
   ],
   "source": [
    "cov_matrix = np.array([[var_T, cov_T_H], [cov_T_H, var_H]])\n",
    "cov_matrix"
   ]
  },
  {
   "cell_type": "markdown",
   "id": "2210477a",
   "metadata": {},
   "source": [
    "# Computing for the eigenvalues and eigenvectors "
   ]
  },
  {
   "cell_type": "code",
   "execution_count": 21,
   "id": "a888d582",
   "metadata": {},
   "outputs": [
    {
     "data": {
      "text/plain": [
       "array([ 41.01042568, 164.48407982])"
      ]
     },
     "execution_count": 21,
     "metadata": {},
     "output_type": "execute_result"
    }
   ],
   "source": [
    "eigenvalues, eigenvectors = np.linalg.eig(cov_matrix)\n",
    "eigenvalues"
   ]
  },
  {
   "cell_type": "code",
   "execution_count": 22,
   "id": "ca974247",
   "metadata": {},
   "outputs": [],
   "source": [
    "Lambda1 = 41.01042568\n",
    "Lambda2 = 164.48407982"
   ]
  },
  {
   "cell_type": "code",
   "execution_count": 23,
   "id": "3846c531",
   "metadata": {},
   "outputs": [
    {
     "data": {
      "text/plain": [
       "array([ 0.73488059, -0.67819652])"
      ]
     },
     "execution_count": 23,
     "metadata": {},
     "output_type": "execute_result"
    }
   ],
   "source": [
    "eigenvectors[:,0]*-1"
   ]
  },
  {
   "cell_type": "code",
   "execution_count": 24,
   "id": "c49f3478",
   "metadata": {},
   "outputs": [
    {
     "data": {
      "text/plain": [
       "array([0.67819652, 0.73488059])"
      ]
     },
     "execution_count": 24,
     "metadata": {},
     "output_type": "execute_result"
    }
   ],
   "source": [
    "eigenvectors[:,1]* -1"
   ]
  },
  {
   "cell_type": "code",
   "execution_count": 25,
   "id": "955cdb30",
   "metadata": {
    "scrolled": true
   },
   "outputs": [
    {
     "data": {
      "text/plain": [
       "array([[ 0.67819652,  0.73488059],\n",
       "       [ 0.73488059, -0.67819652]])"
      ]
     },
     "execution_count": 25,
     "metadata": {},
     "output_type": "execute_result"
    }
   ],
   "source": [
    "'''Arranging the eigenvalues in terms of descending order so that the largest eigenvector is used to find PC1'''\n",
    "idx = np.argsort(eigenvalues)[::-1]\n",
    "\n",
    "sorted_eigenvalues = eigenvalues[idx]\n",
    "sorted_eigenvectors = eigenvectors[:, idx]*-1\n",
    "sorted_eigenvectors"
   ]
  },
  {
   "cell_type": "code",
   "execution_count": 26,
   "id": "c5e75a5d",
   "metadata": {},
   "outputs": [
    {
     "data": {
      "text/plain": [
       "array([0.67819652, 0.73488059])"
      ]
     },
     "execution_count": 26,
     "metadata": {},
     "output_type": "execute_result"
    }
   ],
   "source": [
    "PC1 = sorted_eigenvectors[:, 0]\n",
    "PC1"
   ]
  },
  {
   "cell_type": "code",
   "execution_count": 27,
   "id": "0bf07451",
   "metadata": {},
   "outputs": [
    {
     "data": {
      "text/plain": [
       "array([ 0.73488059, -0.67819652])"
      ]
     },
     "execution_count": 27,
     "metadata": {},
     "output_type": "execute_result"
    }
   ],
   "source": [
    "PC2 = sorted_eigenvectors[:, 1]\n",
    "PC2"
   ]
  },
  {
   "cell_type": "markdown",
   "id": "978d0165",
   "metadata": {},
   "source": [
    "# solving for the PC1 & PC2"
   ]
  },
  {
   "cell_type": "code",
   "execution_count": 28,
   "id": "eb3f8c19",
   "metadata": {},
   "outputs": [
    {
     "name": "stdout",
     "output_type": "stream",
     "text": [
      "The matrix for PC1 is: [0.678 0.735]\n",
      "The matrix for PC2 is: [ 0.735 -0.678]\n"
     ]
    }
   ],
   "source": [
    "PC1 = np.round(PC1,3)\n",
    "PC2 = np.round(PC2,3)\n",
    "\n",
    "\n",
    "print(f'The matrix for PC1 is: {PC1}')\n",
    "print(f'The matrix for PC2 is: {PC2}')"
   ]
  },
  {
   "cell_type": "code",
   "execution_count": 29,
   "id": "2f9f9725",
   "metadata": {},
   "outputs": [],
   "source": [
    "import matplotlib.pyplot as plt"
   ]
  },
  {
   "cell_type": "code",
   "execution_count": 34,
   "id": "f5717764",
   "metadata": {},
   "outputs": [
    {
     "data": {
      "image/png": "[encoded data removed]",
      "text/plain": [
       "<Figure size 800x500 with 1 Axes>"
      ]
     },
     "metadata": {},
     "output_type": "display_data"
    }
   ],
   "source": [
    "plt.figure(figsize=(8,5))\n",
    "plt.scatter(aa['Temperature (T)'], aa['Humidity (H)'], color='red', s=15, alpha= 1)\n",
    "plt.title(\" Temperature - Humidity Plot\")\n",
    "plt.xlabel(\"Temperature (T)\")\n",
    "plt.ylabel(\"Humidity (H)\")\n",
    "plt.grid(True)\n",
    "plt.show()\n"
   ]
  },
  {
   "cell_type": "code",
   "execution_count": 35,
   "id": "c0c005c8",
   "metadata": {},
   "outputs": [
    {
     "data": {
      "image/png": "[encoded data removed]",
      "text/plain": [
       "<Figure size 800x500 with 1 Axes>"
      ]
     },
     "metadata": {},
     "output_type": "display_data"
    }
   ],
   "source": [
    "plt.figure(figsize=(8,5))\n",
    "\n",
    "\n",
    "plt.scatter(T_prime, H_prime, color='blue', s=15, alpha= 1)\n",
    "\n",
    "plt.title(\"Centralized Temperature and Humidity Plot\")\n",
    "plt.xlabel(\"Temperature (T')\")\n",
    "plt.ylabel(\"Humidity (H')\")\n",
    "plt.grid(True)\n",
    "plt.show()\n"
   ]
  },
  {
   "cell_type": "code",
   "execution_count": 36,
   "id": "b7c488bb",
   "metadata": {},
   "outputs": [
    {
     "data": {
      "image/png": "[encoded data removed]",
      "text/plain": [
       "<Figure size 800x500 with 1 Axes>"
      ]
     },
     "metadata": {},
     "output_type": "display_data"
    }
   ],
   "source": [
    "eigenvalues, eigenvectors = np.linalg.eig(cov_matrix)\n",
    "\n",
    "\n",
    "total_variance = sum(eigenvalues)\n",
    "variance_explained = [(i / total_variance)*100 for i in eigenvalues]\n",
    "\n",
    "\n",
    "sorted_variance = sorted(variance_explained, reverse=True)\n",
    "\n",
    "\n",
    "plt.figure(figsize=(8,5))\n",
    "plt.plot(range(1, len(sorted_variance)+1), sorted_variance, 'o-', color='green')\n",
    "\n",
    "plt.title('Variance Plot (Principal Components)')\n",
    "plt.xlabel('Principal Component')\n",
    "plt.ylabel('Variance (%)')\n",
    "plt.xticks(range(1, len(sorted_variance)+1))\n",
    "plt.grid(True)\n",
    "plt.show()\n"
   ]
  },
  {
   "cell_type": "code",
   "execution_count": 37,
   "id": "f6cff272",
   "metadata": {},
   "outputs": [
    {
     "data": {
      "image/png": "[encoded data removed]",
      "text/plain": [
       "<Figure size 800x600 with 1 Axes>"
      ]
     },
     "metadata": {},
     "output_type": "display_data"
    }
   ],
   "source": [
    "projected_data = np.dot(np.array([T_prime, H_prime]).T, sorted_eigenvectors)\n",
    "\n",
    "\n",
    "arrow_scale_temp = 10\n",
    "arrow_scale_hum  = 22\n",
    "\n",
    "temp_arrow = sorted_eigenvectors[:, 1] * arrow_scale_temp\n",
    "hum_arrow  = sorted_eigenvectors[:, 0] * arrow_scale_hum\n",
    "\n",
    "\n",
    "fig, ax = plt.subplots(figsize=(8, 6))\n",
    "\n",
    "# Plot projected data points\n",
    "ax.scatter(projected_data[:, 0], projected_data[:, 1],\n",
    "           color='purple', s=20, alpha=0.5)\n",
    "\n",
    "# Plot Temperature arrow with label for legend\n",
    "ax.arrow(0, 0, temp_arrow[0], temp_arrow[1],\n",
    "         color='red', linewidth=2, head_width=0.8, head_length=1,\n",
    "         label='Temperature')\n",
    "\n",
    "# Plot Humidity arrow with label for legend\n",
    "ax.arrow(0, 0, hum_arrow[0], hum_arrow[1],\n",
    "         color='blue', linewidth=2, head_width=0.8, head_length=1,\n",
    "         label='Humidity')\n",
    "\n",
    "# Set symmetrical axis limits\n",
    "max_val = np.max(np.abs(projected_data)) * 1.2\n",
    "ax.set_xlim(-max_val, max_val)\n",
    "ax.set_ylim(-max_val, max_val)\n",
    "\n",
    "# Make the plot look like a Cartesian plane\n",
    "ax.spines['left'].set_position('zero')\n",
    "ax.spines['bottom'].set_position('zero')\n",
    "ax.spines['top'].set_color('none')\n",
    "ax.spines['right'].set_color('none')\n",
    "\n",
    "\n",
    "ax.xaxis.set_ticks_position('both')\n",
    "ax.yaxis.set_ticks_position('both')\n",
    "ax.xaxis.set_tick_params(direction='inout')\n",
    "ax.yaxis.set_tick_params(direction='inout')\n",
    "\n",
    "\n",
    "ax.set_xlabel('')\n",
    "ax.set_ylabel('')\n",
    "ax.text(max_val * 0.95, -max_val * 0.05, 'PC2', fontsize=12, ha='right', va='top')\n",
    "ax.text(-max_val * 0.05, max_val * 0.95, 'PC1', fontsize=12, ha='right', va='top', rotation=90)\n",
    "\n",
    "\n",
    "ax.set_title('Principal Component Projection')\n",
    "ax.grid(True, linestyle='--', alpha=1.0)\n",
    "\n",
    "\n",
    "ax.legend(loc='upper left')\n",
    "\n",
    "plt.tight_layout()\n",
    "plt.show()\n"
   ]
  },
  {
   "cell_type": "code",
   "execution_count": null,
   "id": "66cda7fa",
   "metadata": {},
   "outputs": [],
   "source": []
  }
 ],
 "metadata": {
  "kernelspec": {
   "display_name": "Python 3 (ipykernel)",
   "language": "python",
   "name": "python3"
  },
  "language_info": {
   "codemirror_mode": {
    "name": "ipython",
    "version": 3
   },
   "file_extension": ".py",
   "mimetype": "text/x-python",
   "name": "python",
   "nbconvert_exporter": "python",
   "pygments_lexer": "ipython3",
   "version": "3.13.5"
  }
 },
 "nbformat": 4,
 "nbformat_minor": 5
}
